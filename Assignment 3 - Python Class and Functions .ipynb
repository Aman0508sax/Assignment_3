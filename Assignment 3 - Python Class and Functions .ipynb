{
 "cells": [
  {
   "cell_type": "code",
   "execution_count": 15,
   "id": "25168a77",
   "metadata": {},
   "outputs": [
    {
     "name": "stdout",
     "output_type": "stream",
     "text": [
      "<__main__.Student object at 0x000002395C8B0150>\n"
     ]
    }
   ],
   "source": [
    "#1.) 1.\tClass Definition and Object Creation Create a Python class called \"Student\" that has the following attributes: name, age, and grade. Define an initialization method to initialize these attributes when an object of the class is created. Create an instance of the class and set the attributes. Finally, print the attributes of the student object.\n",
    "\n",
    "class Student:\n",
    "    pass\n",
    "Student_1=Student()\n",
    "\n",
    "print(Student_1)"
   ]
  },
  {
   "cell_type": "code",
   "execution_count": 14,
   "id": "59e9dbfc",
   "metadata": {},
   "outputs": [
    {
     "name": "stdout",
     "output_type": "stream",
     "text": [
      "Name of Student is:  Raju\n",
      "Age of Student is:  15\n",
      "Grade of Student is:  A\n"
     ]
    }
   ],
   "source": [
    "#1.) 1.\tClass Definition and Object Creation Create a Python class called \"Student\" that has the following attributes: name, age, and grade. Define an initialization method to initialize these attributes when an object of the class is created. Create an instance of the class and set the attributes. Finally, print the attributes of the student object.\n",
    "\n",
    "class Student:\n",
    "    \n",
    "    def __init__(self,name,age,grade):\n",
    "        self.name=name\n",
    "        self.age=age\n",
    "        self.grade=grade\n",
    "Student_1=Student('Raju',15,'A')\n",
    "\n",
    "print('Name of Student is: ',Student_1.name)\n",
    "print('Age of Student is: ',Student_1.age)\n",
    "print('Grade of Student is: ',Student_1.grade)"
   ]
  },
  {
   "cell_type": "code",
   "execution_count": 13,
   "id": "2ebce122",
   "metadata": {},
   "outputs": [
    {
     "name": "stdout",
     "output_type": "stream",
     "text": [
      "Yes he is passing\n"
     ]
    }
   ],
   "source": [
    "#2.)Extend the \"Student\" class from the previous question. Add a method called \"is_passing\" that returns True if the student's grade is greater than or equal to 50 and False otherwise. Create an instance of the class and use this method to check if the student is passing. Display the result.\n",
    "\n",
    "class Student:\n",
    "    \n",
    "    def __init__(self,name,age,grade):\n",
    "        self.name=name\n",
    "        self.age=age\n",
    "        self.grade=grade\n",
    "    def is_passing(self):\n",
    "        return self.grade>=50\n",
    "Student_1=Student('Raju',15,60)\n",
    "\n",
    "passing=Student_1.is_passing()\n",
    "\n",
    "if passing:\n",
    "    print('Yes he is passing')\n",
    "else:\n",
    "     print('No he is not')\n"
   ]
  },
  {
   "cell_type": "code",
   "execution_count": 25,
   "id": "72fa2d1a",
   "metadata": {},
   "outputs": [
    {
     "name": "stdout",
     "output_type": "stream",
     "text": [
      "Student Name: Ravi\n",
      "Student Age: 17\n",
      "Student Grade: 65\n",
      "School Name: DP School\n"
     ]
    }
   ],
   "source": [
    "#3.)Create a new class called \"HighSchoolStudent\" that inherits from the \"Student\" class. Add an additional attribute called school_name to the \"HighSchoolStudent\" class. Create an instance of the \"HighSchoolStudent\" class and set both the attributes, including the inherited attributes from the \"Student\" class. Print all the attributes of the high school student.\n",
    "\n",
    "\n",
    "class Student:\n",
    "    def __init__(self, name, age, grade):\n",
    "        self.name = name\n",
    "        self.age = age\n",
    "        self.grade = grade\n",
    "\n",
    "    def is_passing(self):\n",
    "        return self.grade >= 50\n",
    "\n",
    "class HighSchoolStudent(Student):\n",
    "    def __init__(self, name, age, grade, school_name):\n",
    "        super().__init__(name, age, grade)  # Initialize inherited attributes\n",
    "        self.school_name = school_name  # Initialize the additional attribute\n",
    "\n",
    "# Create an instance of the HighSchoolStudent class\n",
    "high_school_student = HighSchoolStudent(\"Ravi\", 17, 65, \"DP School\")\n",
    "\n",
    "# Print all the attributes of the high school student\n",
    "print(\"Student Name:\", high_school_student.name)\n",
    "print(\"Student Age:\", high_school_student.age)\n",
    "print(\"Student Grade:\", high_school_student.grade)\n",
    "print(\"School Name:\", high_school_student.school_name)"
   ]
  },
  {
   "cell_type": "code",
   "execution_count": 32,
   "id": "89c6ffeb",
   "metadata": {},
   "outputs": [
    {
     "name": "stdout",
     "output_type": "stream",
     "text": [
      "The area of a rectangle with length 8 and width 5 is 40 square units.\n",
      "The area of a rectangle with length 12 and width 6 is 72 square units.\n",
      "The area of a rectangle with length 9 and width 1 is 9 square units.\n"
     ]
    }
   ],
   "source": [
    "#4.)Write a Python function called \"calculate_rectangle_area\" that takes two parameters, length and width, and returns the area of a rectangle. Call the function with different sets of values and display the results.\n",
    " \n",
    "def calculate_rectangle_area(length, width):\n",
    "    return length * width\n",
    "\n",
    "# Call the function with different sets of values and display the results\n",
    "length1, width1 = 8,5\n",
    "area1 = calculate_rectangle_area(length1, width1)\n",
    "print(f\"The area of a rectangle with length {length1} and width {width1} is {area1} square units.\")\n",
    "\n",
    "length2, width2 = 12,6\n",
    "area2 = calculate_rectangle_area(length2, width2)\n",
    "print(f\"The area of a rectangle with length {length2} and width {width2} is {area2} square units.\")\n",
    "\n",
    "length3, width3 = 9,1\n",
    "area3 = calculate_rectangle_area(length3, width3)\n",
    "print(f\"The area of a rectangle with length {length3} and width {width3} is {area3} square units.\")\n",
    "  "
   ]
  },
  {
   "cell_type": "code",
   "execution_count": 34,
   "id": "ef177054",
   "metadata": {},
   "outputs": [
    {
     "name": "stdout",
     "output_type": "stream",
     "text": [
      "Hello, Ram!\n",
      "Hi, Priya!\n"
     ]
    }
   ],
   "source": [
    "#5.)Create a Python function called \"greet\" that takes a name as a parameter and a greeting message as an optional parameter with a default value of \"Hello\". The function should return a formatted greeting message. Test the function by calling it with and without the optional parameter and display the results.\n",
    "\n",
    "def greet(name, greeting=\"Hello\"):\n",
    "    return f\"{greeting}, {name}!\"\n",
    "\n",
    "# Test the function with and without the optional parameter\n",
    "name1 = \"Ram\"\n",
    "greeting1 = greet(name1)\n",
    "print(greeting1)  # This will use the default greeting \"Hello\"\n",
    "\n",
    "name2 = \"Priya\"\n",
    "custom_greeting = \"Hi\"\n",
    "greeting2 = greet(name2, custom_greeting)\n",
    "print(greeting2)  # This will use the custom greeting \"Hi\"\n"
   ]
  },
  {
   "cell_type": "code",
   "execution_count": 35,
   "id": "d3e38dbd",
   "metadata": {},
   "outputs": [
    {
     "name": "stdout",
     "output_type": "stream",
     "text": [
      "The average of 5, 10, 15, and 20 is 12.5.\n"
     ]
    }
   ],
   "source": [
    "#6.)Write a Python function called \"calculate_average\" that takes a variable number of arguments and calculates the average of those numbers. Use this function to find the average of 5, 10, 15, and 20, and display the result.\n",
    "\n",
    "def calculate_average(*numbers):\n",
    "    if not numbers:\n",
    "        return 0\n",
    "    return sum(numbers) / len(numbers)\n",
    "\n",
    "# Use the function to find the average of 5, 10, 15, and 20\n",
    "average = calculate_average(5, 10, 15, 20)\n",
    "print(f\"The average of 5, 10, 15, and 20 is {average}.\")"
   ]
  },
  {
   "cell_type": "code",
   "execution_count": null,
   "id": "7bc17a59",
   "metadata": {},
   "outputs": [],
   "source": []
  },
  {
   "cell_type": "code",
   "execution_count": null,
   "id": "baa9974d",
   "metadata": {},
   "outputs": [],
   "source": []
  },
  {
   "cell_type": "code",
   "execution_count": null,
   "id": "3c18d303",
   "metadata": {},
   "outputs": [],
   "source": []
  }
 ],
 "metadata": {
  "kernelspec": {
   "display_name": "Python 3 (ipykernel)",
   "language": "python",
   "name": "python3"
  },
  "language_info": {
   "codemirror_mode": {
    "name": "ipython",
    "version": 3
   },
   "file_extension": ".py",
   "mimetype": "text/x-python",
   "name": "python",
   "nbconvert_exporter": "python",
   "pygments_lexer": "ipython3",
   "version": "3.11.4"
  }
 },
 "nbformat": 4,
 "nbformat_minor": 5
}
